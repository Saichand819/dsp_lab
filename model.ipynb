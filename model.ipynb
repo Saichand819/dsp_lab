{
 "cells": [
  {
   "cell_type": "markdown",
   "metadata": {},
   "source": [
    "# Importing libraries"
   ]
  },
  {
   "cell_type": "code",
   "execution_count": 3,
   "metadata": {},
   "outputs": [],
   "source": [
    "import numpy as np\n",
    "# import matplotlib.pyplot as plt\n",
    "# from tensorflow.keras.utils import array_to_img,img_to_array,load_img\n",
    "from tensorflow.keras import Sequential\n",
    "from tensorflow.keras.layers import Conv2D,MaxPooling2D,Flatten,Dense,Activation,Dropout"
   ]
  },
  {
   "cell_type": "markdown",
   "metadata": {},
   "source": [
    "# Importing the data set and performing data augmentation"
   ]
  },
  {
   "cell_type": "code",
   "execution_count": 4,
   "metadata": {},
   "outputs": [
    {
     "ename": "NameError",
     "evalue": "name 'ImageDataGenerator' is not defined",
     "output_type": "error",
     "traceback": [
      "\u001b[0;31m---------------------------------------------------------------------------\u001b[0m",
      "\u001b[0;31mNameError\u001b[0m                                 Traceback (most recent call last)",
      "Cell \u001b[0;32mIn [4], line 2\u001b[0m\n\u001b[1;32m      1\u001b[0m train_path \u001b[39m=\u001b[39m \u001b[39m'\u001b[39m\u001b[39m/home/piyush/projects/python/dsplab/Gesture-controlled-opencv-calculator/train\u001b[39m\u001b[39m'\u001b[39m\n\u001b[0;32m----> 2\u001b[0m train_datagen \u001b[39m=\u001b[39m ImageDataGenerator(rescale\u001b[39m=\u001b[39m\u001b[39m1.\u001b[39m\u001b[39m/\u001b[39m\u001b[39m255\u001b[39m,rotation_range \u001b[39m=\u001b[39m \u001b[39m4\u001b[39m,\n\u001b[1;32m      3\u001b[0m                                    width_shift_range\u001b[39m=\u001b[39m\u001b[39m0.15\u001b[39m,\n\u001b[1;32m      4\u001b[0m                                    height_shift_range \u001b[39m=\u001b[39m \u001b[39m0.2\u001b[39m,\n\u001b[1;32m      5\u001b[0m                                    shear_range\u001b[39m=\u001b[39m\u001b[39m0.3\u001b[39m,\n\u001b[1;32m      6\u001b[0m                                    fill_mode\u001b[39m=\u001b[39m\u001b[39m'\u001b[39m\u001b[39mnearest\u001b[39m\u001b[39m'\u001b[39m,\n\u001b[1;32m      7\u001b[0m                                    validation_split\u001b[39m=\u001b[39m\u001b[39m0.25\u001b[39m)\n\u001b[1;32m      8\u001b[0m train_set \u001b[39m=\u001b[39m train_datagen\u001b[39m.\u001b[39mflow_from_directory(directory\u001b[39m=\u001b[39mtrain_path, class_mode\u001b[39m=\u001b[39m\u001b[39m'\u001b[39m\u001b[39mcategorical\u001b[39m\u001b[39m'\u001b[39m,\n\u001b[1;32m      9\u001b[0m                                                     color_mode \u001b[39m=\u001b[39m \u001b[39m'\u001b[39m\u001b[39mgrayscale\u001b[39m\u001b[39m'\u001b[39m,\n\u001b[1;32m     10\u001b[0m                                                     target_size\u001b[39m=\u001b[39m(\u001b[39m64\u001b[39m,\u001b[39m64\u001b[39m), batch_size\u001b[39m=\u001b[39m\u001b[39m128\u001b[39m, shuffle\u001b[39m=\u001b[39m\u001b[39mTrue\u001b[39;00m,\n\u001b[1;32m     11\u001b[0m                                                     subset \u001b[39m=\u001b[39m\u001b[39m\"\u001b[39m\u001b[39mtraining\u001b[39m\u001b[39m\"\u001b[39m)\n\u001b[1;32m     12\u001b[0m validation_set \u001b[39m=\u001b[39m train_datagen\u001b[39m.\u001b[39mflow_from_directory(directory\u001b[39m=\u001b[39mtrain_path,\n\u001b[1;32m     13\u001b[0m                                                  target_size \u001b[39m=\u001b[39m (\u001b[39m64\u001b[39m,\u001b[39m64\u001b[39m),\n\u001b[1;32m     14\u001b[0m                                                  batch_size \u001b[39m=\u001b[39m \u001b[39m64\u001b[39m,\n\u001b[1;32m     15\u001b[0m                                                  class_mode \u001b[39m=\u001b[39m \u001b[39m'\u001b[39m\u001b[39mcategorical\u001b[39m\u001b[39m'\u001b[39m,\n\u001b[1;32m     16\u001b[0m                                                  color_mode \u001b[39m=\u001b[39m \u001b[39m'\u001b[39m\u001b[39mgrayscale\u001b[39m\u001b[39m'\u001b[39m,subset\u001b[39m=\u001b[39m\u001b[39m\"\u001b[39m\u001b[39mvalidation\u001b[39m\u001b[39m\"\u001b[39m,shuffle\u001b[39m=\u001b[39m\u001b[39mTrue\u001b[39;00m)\n",
      "\u001b[0;31mNameError\u001b[0m: name 'ImageDataGenerator' is not defined"
     ]
    }
   ],
   "source": [
    "train_path = '/home/piyush/projects/python/dsplab/Gesture-controlled-opencv-calculator/train'\n",
    "train_datagen = ImageDataGenerator(rescale=1./255,rotation_range = 4,\n",
    "                                   width_shift_range=0.15,\n",
    "                                   height_shift_range = 0.2,\n",
    "                                   shear_range=0.3,\n",
    "                                   fill_mode='nearest',\n",
    "                                   validation_split=0.25)\n",
    "train_set = train_datagen.flow_from_directory(directory=train_path, class_mode='categorical',\n",
    "                                                    color_mode = 'grayscale',\n",
    "                                                    target_size=(64,64), batch_size=128, shuffle=True,\n",
    "                                                    subset =\"training\")\n",
    "validation_set = train_datagen.flow_from_directory(directory=train_path,\n",
    "                                                 target_size = (64,64),\n",
    "                                                 batch_size = 64,\n",
    "                                                 class_mode = 'categorical',\n",
    "                                                 color_mode = 'grayscale',subset=\"validation\",shuffle=True)"
   ]
  },
  {
   "cell_type": "code",
   "execution_count": 5,
   "metadata": {},
   "outputs": [],
   "source": [
    "x_train=[]\n",
    "y_train=[]\n",
    "import cv2\n",
    "import glob\n",
    "import numpy as np\n",
    "for img in glob.glob(\"/home/piyush/projects/python/dsplab/Gesture-controlled-opencv-calculator/train/1/*.jpg\"):\n",
    "    cv_img = cv2.imread(img)\n",
    "    cv_img=cv2.cvtColor(cv_img, cv2.COLOR_BGR2GRAY)\n",
    "    x_train.append(cv2.resize(cv_img, (64, 64)))\n",
    "    y_train.append([1,0,0])\n",
    "for img in glob.glob(\"/home/piyush/projects/python/dsplab/Gesture-controlled-opencv-calculator/train/2/*.jpg\"):\n",
    "    cv_img = cv2.imread(img)\n",
    "    cv_img=cv2.cvtColor(cv_img, cv2.COLOR_BGR2GRAY)\n",
    "    x_train.append(cv2.resize(cv_img, (64, 64)))\n",
    "    y_train.append([0,1,0])\n",
    "for img in glob.glob(\"/home/piyush/projects/python/dsplab/Gesture-controlled-opencv-calculator/train/3/*.jpg\"):\n",
    "    cv_img = cv2.imread(img)\n",
    "    cv_img=cv2.cvtColor(cv_img, cv2.COLOR_BGR2GRAY)\n",
    "    x_train.append(cv2.resize(cv_img, (64, 64)))\n",
    "    y_train.append([0,0,1])\n",
    "x_train = np.reshape(np.array(x_train),(-1,64,64,1))/255.0\n",
    "y_train = np.array(y_train)"
   ]
  },
  {
   "cell_type": "code",
   "execution_count": 6,
   "metadata": {},
   "outputs": [],
   "source": [
    "x_test=[]\n",
    "y_test=[]\n",
    "for img in glob.glob(\"/home/piyush/projects/python/dsplab/Gesture-controlled-opencv-calculator/test/1/*.jpg\"):\n",
    "    cv_img = cv2.imread(img)\n",
    "    cv_img=cv2.cvtColor(cv_img, cv2.COLOR_BGR2GRAY)\n",
    "    x_test.append(cv2.resize(cv_img, (64, 64)))\n",
    "    y_test.append([1,0,0])\n",
    "for img in glob.glob(\"/home/piyush/projects/python/dsplab/Gesture-controlled-opencv-calculator/test/2/*.jpg\"):\n",
    "    cv_img = cv2.imread(img)\n",
    "    cv_img=cv2.cvtColor(cv_img, cv2.COLOR_BGR2GRAY)\n",
    "    x_test.append(cv2.resize(cv_img, (64, 64)))\n",
    "    y_test.append([0,1,0])\n",
    "for img in glob.glob(\"/home/piyush/projects/python/dsplab/Gesture-controlled-opencv-calculator/test/3/*.jpg\"):\n",
    "    cv_img = cv2.imread(img)\n",
    "    cv_img=cv2.cvtColor(cv_img, cv2.COLOR_BGR2GRAY)\n",
    "    x_test.append(cv2.resize(cv_img, (64, 64)))\n",
    "    y_test.append([0,0,1])\n",
    "x_test = np.reshape(np.array(x_test),(-1,64,64,1))/255.0\n",
    "y_test = np.array(y_test)"
   ]
  },
  {
   "cell_type": "markdown",
   "metadata": {},
   "source": [
    "# Defing the model "
   ]
  },
  {
   "cell_type": "code",
   "execution_count": 7,
   "metadata": {},
   "outputs": [],
   "source": [
    "def make_model():\n",
    "    model = Sequential()\n",
    "    model.add(Conv2D(32,input_shape=(64,64,1),kernel_size=(3,3),strides=(1,1),activation='relu',padding=\"same\"))\n",
    "\n",
    "    model.add(Conv2D(64,kernel_size=(3,3),strides=(2,2),activation='relu',padding=\"same\"))\n",
    "    \n",
    "    model.add(MaxPooling2D(pool_size=(2,2)))\n",
    "    model.add(Dropout(0.15))\n",
    "    \n",
    "\n",
    "    model.add(Conv2D(64,kernel_size=(3,3),strides=(2,2),activation='relu',padding=\"same\"))\n",
    "    \n",
    "    model.add(Conv2D(128,kernel_size=(3,3),strides=(1,1),activation='relu',padding=\"same\"))\n",
    "    \n",
    "    model.add(MaxPooling2D(pool_size=(2,2)))\n",
    "    \n",
    "    model.add(Dropout(0.25))\n",
    "    \n",
    "    model.add(Flatten())\n",
    "    \n",
    "    model.add(Dense(64,activation='relu'))\n",
    "    model.add(Dense(32,activation='relu'))\n",
    "    model.add(Dense(3,activation='softmax'))\n",
    " \n",
    "    \n",
    "    model.compile(\n",
    "          loss = 'categorical_crossentropy',\n",
    "          optimizer = 'Adam',metrics = ['accuracy']\n",
    "                )\n",
    "    return model "
   ]
  },
  {
   "cell_type": "code",
   "execution_count": 8,
   "metadata": {},
   "outputs": [
    {
     "name": "stdout",
     "output_type": "stream",
     "text": [
      "Model: \"sequential\"\n",
      "_________________________________________________________________\n",
      "Layer (type)                 Output Shape              Param #   \n",
      "=================================================================\n",
      "conv2d (Conv2D)              (None, 64, 64, 32)        320       \n",
      "_________________________________________________________________\n",
      "conv2d_1 (Conv2D)            (None, 32, 32, 64)        18496     \n",
      "_________________________________________________________________\n",
      "max_pooling2d (MaxPooling2D) (None, 16, 16, 64)        0         \n",
      "_________________________________________________________________\n",
      "dropout (Dropout)            (None, 16, 16, 64)        0         \n",
      "_________________________________________________________________\n",
      "conv2d_2 (Conv2D)            (None, 8, 8, 64)          36928     \n",
      "_________________________________________________________________\n",
      "conv2d_3 (Conv2D)            (None, 8, 8, 128)         73856     \n",
      "_________________________________________________________________\n",
      "max_pooling2d_1 (MaxPooling2 (None, 4, 4, 128)         0         \n",
      "_________________________________________________________________\n",
      "dropout_1 (Dropout)          (None, 4, 4, 128)         0         \n",
      "_________________________________________________________________\n",
      "flatten (Flatten)            (None, 2048)              0         \n",
      "_________________________________________________________________\n",
      "dense (Dense)                (None, 64)                131136    \n",
      "_________________________________________________________________\n",
      "dense_1 (Dense)              (None, 32)                2080      \n",
      "_________________________________________________________________\n",
      "dense_2 (Dense)              (None, 3)                 99        \n",
      "=================================================================\n",
      "Total params: 262,915\n",
      "Trainable params: 262,915\n",
      "Non-trainable params: 0\n",
      "_________________________________________________________________\n"
     ]
    },
    {
     "name": "stderr",
     "output_type": "stream",
     "text": [
      "2022-12-01 18:49:22.244764: I tensorflow/stream_executor/platform/default/dso_loader.cc:44] Successfully opened dynamic library libcuda.so.1\n",
      "2022-12-01 18:49:22.275085: I tensorflow/stream_executor/cuda/cuda_gpu_executor.cc:981] successful NUMA node read from SysFS had negative value (-1), but there must be at least one NUMA node, so returning NUMA node zero\n",
      "2022-12-01 18:49:22.275215: I tensorflow/core/common_runtime/gpu/gpu_device.cc:1561] Found device 0 with properties: \n",
      "pciBusID: 0000:01:00.0 name: NVIDIA GeForce GTX 1050 computeCapability: 6.1\n",
      "coreClock: 1.493GHz coreCount: 5 deviceMemorySize: 3.95GiB deviceMemoryBandwidth: 104.43GiB/s\n",
      "2022-12-01 18:49:22.275389: W tensorflow/stream_executor/platform/default/dso_loader.cc:55] Could not load dynamic library 'libcudart.so.10.1'; dlerror: libcudart.so.10.1: cannot open shared object file: No such file or directory; LD_LIBRARY_PATH: /home/piyush/.local/lib/python3.8/site-packages/cv2/../../lib64:\n",
      "2022-12-01 18:49:22.275453: W tensorflow/stream_executor/platform/default/dso_loader.cc:55] Could not load dynamic library 'libcublas.so.10'; dlerror: libcublas.so.10: cannot open shared object file: No such file or directory; LD_LIBRARY_PATH: /home/piyush/.local/lib/python3.8/site-packages/cv2/../../lib64:\n",
      "2022-12-01 18:49:22.275513: W tensorflow/stream_executor/platform/default/dso_loader.cc:55] Could not load dynamic library 'libcufft.so.10'; dlerror: libcufft.so.10: cannot open shared object file: No such file or directory; LD_LIBRARY_PATH: /home/piyush/.local/lib/python3.8/site-packages/cv2/../../lib64:\n",
      "2022-12-01 18:49:22.275564: W tensorflow/stream_executor/platform/default/dso_loader.cc:55] Could not load dynamic library 'libcurand.so.10'; dlerror: libcurand.so.10: cannot open shared object file: No such file or directory; LD_LIBRARY_PATH: /home/piyush/.local/lib/python3.8/site-packages/cv2/../../lib64:\n",
      "2022-12-01 18:49:22.275621: W tensorflow/stream_executor/platform/default/dso_loader.cc:55] Could not load dynamic library 'libcusolver.so.10'; dlerror: libcusolver.so.10: cannot open shared object file: No such file or directory; LD_LIBRARY_PATH: /home/piyush/.local/lib/python3.8/site-packages/cv2/../../lib64:\n",
      "2022-12-01 18:49:22.275676: W tensorflow/stream_executor/platform/default/dso_loader.cc:55] Could not load dynamic library 'libcusparse.so.10'; dlerror: libcusparse.so.10: cannot open shared object file: No such file or directory; LD_LIBRARY_PATH: /home/piyush/.local/lib/python3.8/site-packages/cv2/../../lib64:\n",
      "2022-12-01 18:49:22.275734: W tensorflow/stream_executor/platform/default/dso_loader.cc:55] Could not load dynamic library 'libcudnn.so.7'; dlerror: libcudnn.so.7: cannot open shared object file: No such file or directory; LD_LIBRARY_PATH: /home/piyush/.local/lib/python3.8/site-packages/cv2/../../lib64:\n",
      "2022-12-01 18:49:22.275741: W tensorflow/core/common_runtime/gpu/gpu_device.cc:1598] Cannot dlopen some GPU libraries. Please make sure the missing libraries mentioned above are installed properly if you would like to use GPU. Follow the guide at https://www.tensorflow.org/install/gpu for how to download and setup the required libraries for your platform.\n",
      "Skipping registering GPU devices...\n",
      "2022-12-01 18:49:22.276086: I tensorflow/core/platform/cpu_feature_guard.cc:143] Your CPU supports instructions that this TensorFlow binary was not compiled to use: AVX2 FMA\n",
      "2022-12-01 18:49:22.301479: I tensorflow/core/platform/profile_utils/cpu_utils.cc:102] CPU Frequency: 2299965000 Hz\n",
      "2022-12-01 18:49:22.301962: I tensorflow/compiler/xla/service/service.cc:168] XLA service 0x7f57bc000b60 initialized for platform Host (this does not guarantee that XLA will be used). Devices:\n",
      "2022-12-01 18:49:22.301993: I tensorflow/compiler/xla/service/service.cc:176]   StreamExecutor device (0): Host, Default Version\n",
      "2022-12-01 18:49:22.303032: I tensorflow/core/common_runtime/gpu/gpu_device.cc:1102] Device interconnect StreamExecutor with strength 1 edge matrix:\n",
      "2022-12-01 18:49:22.303047: I tensorflow/core/common_runtime/gpu/gpu_device.cc:1108]      \n"
     ]
    }
   ],
   "source": [
    "model = make_model()\n",
    "model.summary()"
   ]
  },
  {
   "cell_type": "markdown",
   "metadata": {},
   "source": [
    "# Training the model"
   ]
  },
  {
   "cell_type": "code",
   "execution_count": 11,
   "metadata": {},
   "outputs": [
    {
     "name": "stdout",
     "output_type": "stream",
     "text": [
      "Epoch 1/5\n",
      "64/64 [==============================] - 7s 116ms/step - loss: 0.1189 - accuracy: 0.9621 - val_loss: 9.2718e-10 - val_accuracy: 1.0000\n",
      "Epoch 2/5\n",
      "64/64 [==============================] - 7s 112ms/step - loss: 4.4628e-07 - accuracy: 1.0000 - val_loss: 1.0596e-09 - val_accuracy: 1.0000\n",
      "Epoch 3/5\n",
      "64/64 [==============================] - 7s 115ms/step - loss: 5.2931e-08 - accuracy: 1.0000 - val_loss: 7.9473e-10 - val_accuracy: 1.0000\n",
      "Epoch 4/5\n",
      "64/64 [==============================] - 7s 107ms/step - loss: 3.5245e-08 - accuracy: 1.0000 - val_loss: 7.9473e-10 - val_accuracy: 1.0000\n",
      "Epoch 5/5\n",
      "59/64 [==========================>...] - ETA: 0s - loss: 1.6363e-08 - accuracy: 1.0000WARNING:tensorflow:Your input ran out of data; interrupting training. Make sure that your dataset or generator can generate at least `steps_per_epoch * epochs` batches (in this case, 320 batches). You may need to use the repeat() function when building your dataset.\n",
      "59/64 [==========================>...] - 6s 106ms/step - loss: 1.6363e-08 - accuracy: 1.0000 - val_loss: 7.9473e-10 - val_accuracy: 1.0000\n"
     ]
    }
   ],
   "source": [
    "h = model.fit(\n",
    "      x_train,y_train,validation_data = (x_test,y_test),\n",
    "                              epochs=5,steps_per_epoch = 64,validation_steps = 48,\n",
    "                              # callbacks = [\n",
    "                              # keras.callbacks.EarlyStopping(monitor='val_loss',patience=3,mode='auto'),\n",
    "                              # keras.callbacks.ModelCheckpoint('explo/model_{val_loss:.3f}.h5',\n",
    "                              # save_best_only = True,save_weights_only=False,\n",
    "                              # monitor='val_loss')\n",
    "                              # ]\n",
    "\n",
    "\n",
    ")\n",
    "model.save('explo_model.h5')"
   ]
  },
  {
   "cell_type": "code",
   "execution_count": 45,
   "metadata": {},
   "outputs": [],
   "source": [
    "## Loading the saved model\n",
    "from keras.models import load_model\n",
    "model = load_model('/home/piyush/projects/python/dsplab/Gesture-controlled-opencv-calculator/explo_model.h5')"
   ]
  },
  {
   "cell_type": "code",
   "execution_count": 52,
   "metadata": {},
   "outputs": [
    {
     "data": {
      "image/png": "[encoded data removed]",
      "text/plain": [
       "<Figure size 640x480 with 1 Axes>"
      ]
     },
     "metadata": {},
     "output_type": "display_data"
    },
    {
     "data": {
      "image/png": "[encoded data removed]",
      "text/plain": [
       "<Figure size 640x480 with 1 Axes>"
      ]
     },
     "metadata": {},
     "output_type": "display_data"
    }
   ],
   "source": [
    "%matplotlib inline\n",
    "accu= h.history['accuracy']\n",
    "val_acc=h.history['val_accuracy']\n",
    "loss=h.history['loss']\n",
    "val_loss=h.history['val_loss']\n",
    "\n",
    "epochs=range(len(accu)) #No. of epochs\n",
    "\n",
    "import matplotlib.pyplot as plt\n",
    "plt.plot(epochs,accu,'r',label='Training Accuracy')\n",
    "plt.plot(epochs,val_acc,'g',label='Testing Accuracy')\n",
    "plt.legend()\n",
    "plt.xlabel('No. of epochs')\n",
    "plt.ylabel('Accuracy score')\n",
    "plt.figure()\n",
    "\n",
    "#Plot training and validation loss per epoch\n",
    "plt.plot(epochs,loss,'r',label='Training Loss')\n",
    "plt.plot(epochs,val_loss,'g',label='Testing Loss')\n",
    "plt.xlabel('No. of epochs')\n",
    "plt.ylabel('Loss score')\n",
    "plt.legend()\n",
    "plt.show()\n",
    "\t\t\n"
   ]
  },
  {
   "cell_type": "code",
   "execution_count": 8,
   "metadata": {},
   "outputs": [
    {
     "data": {
      "text/plain": [
       "{'gesture-0': 0,\n",
       " 'gesture-1': 1,\n",
       " 'gesture-10': 2,\n",
       " 'gesture-11': 3,\n",
       " 'gesture-12': 4,\n",
       " 'gesture-13': 5,\n",
       " 'gesture-14': 6,\n",
       " 'gesture-15': 7,\n",
       " 'gesture-16': 8,\n",
       " 'gesture-17': 9,\n",
       " 'gesture-2': 10,\n",
       " 'gesture-3': 11,\n",
       " 'gesture-4': 12,\n",
       " 'gesture-5': 13,\n",
       " 'gesture-6': 14,\n",
       " 'gesture-7': 15,\n",
       " 'gesture-8': 16,\n",
       " 'gesture-9': 17}"
      ]
     },
     "execution_count": 8,
     "metadata": {},
     "output_type": "execute_result"
    }
   ],
   "source": [
    "train_set.class_indices\n"
   ]
  },
  {
   "cell_type": "code",
   "execution_count": 9,
   "metadata": {},
   "outputs": [],
   "source": [
    "labels = ['0','1','+','-','*','/','Confirm','**','%','Clear','2','3','4','5','6','7','8','9']\n"
   ]
  },
  {
   "cell_type": "code",
   "execution_count": null,
   "metadata": {},
   "outputs": [],
   "source": []
  },
  {
   "cell_type": "code",
   "execution_count": null,
   "metadata": {},
   "outputs": [],
   "source": []
  }
 ],
 "metadata": {
  "kernelspec": {
   "display_name": "Python 3.8.10 64-bit",
   "language": "python",
   "name": "python3"
  },
  "language_info": {
   "codemirror_mode": {
    "name": "ipython",
    "version": 3
   },
   "file_extension": ".py",
   "mimetype": "text/x-python",
   "name": "python",
   "nbconvert_exporter": "python",
   "pygments_lexer": "ipython3",
   "version": "3.8.10"
  },
  "vscode": {
   "interpreter": {
    "hash": "e7370f93d1d0cde622a1f8e1c04877d8463912d04d973331ad4851f04de6915a"
   }
  }
 },
 "nbformat": 4,
 "nbformat_minor": 4
}
